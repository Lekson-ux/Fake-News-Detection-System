{
 "cells": [
  {
   "cell_type": "code",
   "execution_count": 16,
   "id": "47299fbc",
   "metadata": {},
   "outputs": [],
   "source": [
    "import streamlit as st\n",
    "import pickle\n",
    "filename = 'fakeNews.pkl'\n",
    "pickle_in = open(filename, 'rb')\n",
    "loaded_model = pickle.load(pickle_in)\n",
    "vectfilename = 'vect.pkl'\n",
    "pickle_in = open(vectfilename, 'rb')\n",
    "loaded_vect = pickle.load(pickle_in)"
   ]
  },
  {
   "cell_type": "code",
   "execution_count": 18,
   "id": "607e93ab",
   "metadata": {},
   "outputs": [],
   "source": [
    "# txt=\"\"\"Ever get the feeling your life circles the roundabout rather than heads in a straight line toward the intended destination?\n",
    "\n",
    "# Hillary Clinton remains the big woman on campus in leafy, liberal Wellesley, Massachusetts. Everywhere else votes her most likely to don her inauguration dress for the remainder of her days the way Miss Havisham forever wore that wedding dress.\"\"\"\n",
    "def checkNews(txt):\n",
    "    if(txt!=''):\n",
    "        vectTxt = loaded_vect.transform([txt])\n",
    "        if(loaded_model.predict(vectTxt)):\n",
    "            print('Fake News!')\n",
    "        else:\n",
    "            print(\"Authentic News\")"
   ]
  },
  {
   "cell_type": "code",
   "execution_count": 20,
   "id": "47bec8fd",
   "metadata": {},
   "outputs": [],
   "source": [
    "news = st.text_input('Enter news:')\n",
    "checkNews(news)"
   ]
  }
 ],
 "metadata": {
  "kernelspec": {
   "display_name": "Python 3",
   "language": "python",
   "name": "python3"
  },
  "language_info": {
   "codemirror_mode": {
    "name": "ipython",
    "version": 3
   },
   "file_extension": ".py",
   "mimetype": "text/x-python",
   "name": "python",
   "nbconvert_exporter": "python",
   "pygments_lexer": "ipython3",
   "version": "3.8.8"
  }
 },
 "nbformat": 4,
 "nbformat_minor": 5
}
