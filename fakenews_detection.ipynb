{
 "cells": [
  {
   "cell_type": "code",
   "execution_count": 1,
   "id": "d1829086-7675-473c-990d-3ab43f11bfa5",
   "metadata": {},
   "outputs": [
    {
     "name": "stdout",
     "output_type": "stream",
     "text": [
      "Setup Complete\n"
     ]
    }
   ],
   "source": [
    "# Importing required libraries\n",
    "import numpy as np\n",
    "import pandas as pd\n",
    "from sklearn.model_selection import train_test_split\n",
    "from sklearn.metrics import accuracy_score, confusion_matrix, f1_score\n",
    "\n",
    "print('Setup Complete')"
   ]
  },
  {
   "cell_type": "code",
   "execution_count": 2,
   "id": "6c6c0f3c-a942-4768-a7da-5bdf3f840429",
   "metadata": {},
   "outputs": [
    {
     "name": "stdout",
     "output_type": "stream",
     "text": [
      "(20800, 2)\n"
     ]
    },
    {
     "data": {
      "text/html": [
       "<div>\n",
       "<style scoped>\n",
       "    .dataframe tbody tr th:only-of-type {\n",
       "        vertical-align: middle;\n",
       "    }\n",
       "\n",
       "    .dataframe tbody tr th {\n",
       "        vertical-align: top;\n",
       "    }\n",
       "\n",
       "    .dataframe thead th {\n",
       "        text-align: right;\n",
       "    }\n",
       "</style>\n",
       "<table border=\"1\" class=\"dataframe\">\n",
       "  <thead>\n",
       "    <tr style=\"text-align: right;\">\n",
       "      <th></th>\n",
       "      <th>text</th>\n",
       "      <th>label</th>\n",
       "    </tr>\n",
       "    <tr>\n",
       "      <th>id</th>\n",
       "      <th></th>\n",
       "      <th></th>\n",
       "    </tr>\n",
       "  </thead>\n",
       "  <tbody>\n",
       "    <tr>\n",
       "      <th>0</th>\n",
       "      <td>House Dem Aide: We Didn’t Even See Comey’s Let...</td>\n",
       "      <td>1</td>\n",
       "    </tr>\n",
       "    <tr>\n",
       "      <th>1</th>\n",
       "      <td>Ever get the feeling your life circles the rou...</td>\n",
       "      <td>0</td>\n",
       "    </tr>\n",
       "    <tr>\n",
       "      <th>2</th>\n",
       "      <td>Why the Truth Might Get You Fired October 29, ...</td>\n",
       "      <td>1</td>\n",
       "    </tr>\n",
       "    <tr>\n",
       "      <th>3</th>\n",
       "      <td>Videos 15 Civilians Killed In Single US Airstr...</td>\n",
       "      <td>1</td>\n",
       "    </tr>\n",
       "    <tr>\n",
       "      <th>4</th>\n",
       "      <td>Print \\nAn Iranian woman has been sentenced to...</td>\n",
       "      <td>1</td>\n",
       "    </tr>\n",
       "  </tbody>\n",
       "</table>\n",
       "</div>"
      ],
      "text/plain": [
       "                                                 text  label\n",
       "id                                                          \n",
       "0   House Dem Aide: We Didn’t Even See Comey’s Let...      1\n",
       "1   Ever get the feeling your life circles the rou...      0\n",
       "2   Why the Truth Might Get You Fired October 29, ...      1\n",
       "3   Videos 15 Civilians Killed In Single US Airstr...      1\n",
       "4   Print \\nAn Iranian woman has been sentenced to...      1"
      ]
     },
     "execution_count": 2,
     "metadata": {},
     "output_type": "execute_result"
    }
   ],
   "source": [
    "# Reading data\n",
    "data = pd.read_csv('data/news.csv', index_col='id')\n",
    "news_data = pd.DataFrame(data, columns = ['text', 'label'])\n",
    "\n",
    "print(news_data.shape)\n",
    "news_data.head()"
   ]
  },
  {
   "cell_type": "markdown",
   "id": "564d83e7",
   "metadata": {},
   "source": [
    "### Data Preprocessing"
   ]
  },
  {
   "cell_type": "code",
   "execution_count": 3,
   "id": "606d393c-6448-44de-8603-a6f1f282d668",
   "metadata": {},
   "outputs": [
    {
     "data": {
      "text/plain": [
       "text     39\n",
       "label     0\n",
       "dtype: int64"
      ]
     },
     "execution_count": 3,
     "metadata": {},
     "output_type": "execute_result"
    }
   ],
   "source": [
    "news_data.isnull().sum()"
   ]
  },
  {
   "cell_type": "code",
   "execution_count": 4,
   "id": "a46afc95-67fb-48f2-b7c3-a44467edb433",
   "metadata": {},
   "outputs": [
    {
     "data": {
      "text/plain": [
       "text     0\n",
       "label    0\n",
       "dtype: int64"
      ]
     },
     "execution_count": 4,
     "metadata": {},
     "output_type": "execute_result"
    }
   ],
   "source": [
    "news_data.dropna(inplace = True)\n",
    "news_data.isnull().sum()"
   ]
  },
  {
   "cell_type": "code",
   "execution_count": 5,
   "id": "07839b00-6c8b-46e6-be1a-3c3a928a2cbf",
   "metadata": {},
   "outputs": [
    {
     "data": {
      "text/plain": [
       "id\n",
       "0    1\n",
       "1    0\n",
       "2    1\n",
       "3    1\n",
       "4    1\n",
       "Name: label, dtype: int64"
      ]
     },
     "execution_count": 5,
     "metadata": {},
     "output_type": "execute_result"
    }
   ],
   "source": [
    "labels = news_data.label\n",
    "labels.head()"
   ]
  },
  {
   "cell_type": "code",
   "execution_count": 6,
   "id": "e00a7e2a-96d9-4554-9867-94be39d22d18",
   "metadata": {},
   "outputs": [],
   "source": [
    "# Splitting the dataset\n",
    "x_train, x_test, y_train, y_test = train_test_split(news_data.text, labels, test_size = 0.2, random_state = 1)"
   ]
  },
  {
   "cell_type": "markdown",
   "id": "4e4e3dcd",
   "metadata": {},
   "source": [
    "## TF-IDF Vectorizer"
   ]
  },
  {
   "cell_type": "code",
   "execution_count": 7,
   "id": "a358471a-4774-4cf8-a66c-b220c209b8f4",
   "metadata": {},
   "outputs": [],
   "source": [
    "# Implementing TF-IDF Vectorizer and transforming train and test data\n",
    "from sklearn.feature_extraction.text import TfidfVectorizer\n",
    "vectorizer = TfidfVectorizer(stop_words = 'english', max_df = 0.8)\n",
    "\n",
    "train_data = vectorizer.fit_transform(x_train)\n",
    "test_data = vectorizer.transform(x_test)"
   ]
  },
  {
   "cell_type": "markdown",
   "id": "a3b9a903",
   "metadata": {},
   "source": [
    "## Random Forest Classifier"
   ]
  },
  {
   "cell_type": "code",
   "execution_count": 8,
   "id": "9cd56bc6",
   "metadata": {},
   "outputs": [],
   "source": [
    "from sklearn.ensemble import RandomForestClassifier\n",
    "\n",
    "model = RandomForestClassifier(random_state = 1, n_estimators = 500, max_depth = 20)\n",
    "model.fit(train_data, y_train)\n",
    "\n",
    "y_predicted = model.predict(test_data)"
   ]
  },
  {
   "cell_type": "code",
   "execution_count": 9,
   "id": "bcfc2c8a",
   "metadata": {},
   "outputs": [
    {
     "name": "stdout",
     "output_type": "stream",
     "text": [
      "Accuracy: 89.89%\n",
      "[[1842  196]\n",
      " [ 224 1891]]\n",
      "F1 Score: 89.77%\n"
     ]
    }
   ],
   "source": [
    "# Accuracy\n",
    "acc_score = accuracy_score(y_test, y_predicted)\n",
    "print(f'Accuracy: {round(acc_score * 100, 2)}%')\n",
    "\n",
    "# Confusion Matrix\n",
    "mat = confusion_matrix(y_test, y_predicted, labels = [1, 0])\n",
    "print(mat)\n",
    "\n",
    "# F1 Score\n",
    "f1Score = f1_score(y_test, y_predicted)\n",
    "print(f'F1 Score: {round(f1Score * 100, 2)}%')"
   ]
  },
  {
   "cell_type": "markdown",
   "id": "31f24e88",
   "metadata": {},
   "source": [
    "## Linear SVM"
   ]
  },
  {
   "cell_type": "code",
   "execution_count": 10,
   "id": "3ec7b48b",
   "metadata": {},
   "outputs": [],
   "source": [
    "from sklearn.svm import LinearSVC\n",
    "\n",
    "linear_svc = LinearSVC(random_state = 1)\n",
    "linear_svc.fit(train_data, y_train)\n",
    "\n",
    "y_prd = linear_svc.predict(test_data)"
   ]
  },
  {
   "cell_type": "code",
   "execution_count": 11,
   "id": "fe3ed8b7",
   "metadata": {},
   "outputs": [
    {
     "name": "stdout",
     "output_type": "stream",
     "text": [
      "Accuracy: 96.08%\n",
      "[[1972   66]\n",
      " [  97 2018]]\n",
      "F1 Score: 96.03%\n"
     ]
    }
   ],
   "source": [
    "# Accuracy\n",
    "acc_score = accuracy_score(y_test, y_prd)\n",
    "print(f'Accuracy: {round(acc_score * 100, 2)}%')\n",
    "\n",
    "# Confusion Matrix\n",
    "mat = confusion_matrix(y_test, y_prd, labels = [1, 0])\n",
    "print(mat)\n",
    "\n",
    "# F1 Score\n",
    "f1Score = f1_score(y_test, y_prd)\n",
    "print(f'F1 Score: {round(f1Score * 100, 2)}%')"
   ]
  },
  {
   "cell_type": "markdown",
   "id": "8d04bf59",
   "metadata": {},
   "source": [
    "## Passive Aggressive Classifier"
   ]
  },
  {
   "cell_type": "code",
   "execution_count": 12,
   "id": "b5738322-2627-48ed-84e6-34a0521af43f",
   "metadata": {},
   "outputs": [],
   "source": [
    "# Applying Passive Aggressive Classifier to classify news\n",
    "from sklearn.linear_model import PassiveAggressiveClassifier\n",
    "classifier = PassiveAggressiveClassifier(max_iter = 100, random_state = 1)\n",
    "\n",
    "classifier.fit(train_data, y_train)\n",
    "y_pred = classifier.predict(test_data)"
   ]
  },
  {
   "cell_type": "code",
   "execution_count": 13,
   "id": "20c5e1b8-9dc1-4e42-a4dc-a98d00cf8a55",
   "metadata": {},
   "outputs": [
    {
     "name": "stdout",
     "output_type": "stream",
     "text": [
      "Accuracy: 96.41%\n",
      "[[1974   64]\n",
      " [  85 2030]]\n",
      "F1 Score: 96.36%\n"
     ]
    }
   ],
   "source": [
    "# Accuracy\n",
    "acc_score = accuracy_score(y_test, y_pred)\n",
    "print(f'Accuracy: {round(acc_score * 100, 2)}%')\n",
    "\n",
    "# Confusion Matrix\n",
    "mat = confusion_matrix(y_test, y_pred, labels = [1, 0])\n",
    "print(mat)\n",
    "\n",
    "# F1 Score\n",
    "from sklearn.metrics import f1_score\n",
    "f1Score = f1_score(y_test, y_pred)\n",
    "\n",
    "print(f'F1 Score: {round(f1Score * 100, 2)}%')"
   ]
  }
 ],
 "metadata": {
  "kernelspec": {
   "display_name": "Python 3",
   "language": "python",
   "name": "python3"
  },
  "language_info": {
   "codemirror_mode": {
    "name": "ipython",
    "version": 3
   },
   "file_extension": ".py",
   "mimetype": "text/x-python",
   "name": "python",
   "nbconvert_exporter": "python",
   "pygments_lexer": "ipython3",
   "version": "3.8.8"
  }
 },
 "nbformat": 4,
 "nbformat_minor": 5
}
